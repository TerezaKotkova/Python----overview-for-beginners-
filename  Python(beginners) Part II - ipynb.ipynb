{
  "metadata": {
    "language_info": {
      "codemirror_mode": {
        "name": "python",
        "version": 3
      },
      "file_extension": ".py",
      "mimetype": "text/x-python",
      "name": "python",
      "nbconvert_exporter": "python",
      "pygments_lexer": "ipython3",
      "version": "3.8"
    },
    "kernelspec": {
      "name": "python",
      "display_name": "Python (Pyodide)",
      "language": "python"
    }
  },
  "nbformat_minor": 4,
  "nbformat": 4,
  "cells": [
    {
      "cell_type": "markdown",
      "source": "# Jupyter Notebook & Python (for beginners)",
      "metadata": {}
    },
    {
      "cell_type": "markdown",
      "source": "## Comparison Operators:\n",
      "metadata": {}
    },
    {
      "cell_type": "code",
      "source": "# Equality\n\nprint(2 == 2) # True\nprint(2 == 3) # False\n\n# Inequality\nprint(2 != 2) # False\nprint(2 != 3) # True\n\n# Greater than\nprint(2 > 1) # True\nprint(2 > 2) # False\n\n# Less than\nprint(2 < 1) # False\nprint(2 < 2) # False\n\n# Greater than or equal to\nprint(2 >= 2) # True\nprint(2 >= 1) # True\n\n# Less than or equal to\nprint(2 <= 2) # True\nprint(2 <= 3) # True\n",
      "metadata": {
        "trusted": true
      },
      "execution_count": 3,
      "outputs": [
        {
          "name": "stdout",
          "text": "True\nFalse\nFalse\nTrue\nTrue\nFalse\nFalse\nFalse\nTrue\nTrue\nTrue\nTrue\n",
          "output_type": "stream"
        }
      ]
    },
    {
      "cell_type": "markdown",
      "source": "You can use these operators to compare values of any basic data types (e.g., int, float, str, etc.)\nand also use them in if statements, while loops, and other control flow structures.",
      "metadata": {}
    },
    {
      "cell_type": "markdown",
      "source": "## Logical Operators: ",
      "metadata": {}
    },
    {
      "cell_type": "code",
      "source": "# Logical AND\nprint(True and True) # True\nprint(True and False) # False\nprint(False and False) # False\n\n# Logical OR\nprint(True or True) # True\nprint(True or False) # True\nprint(False or False) # False\n\n# Logical NOT\nprint(not True) # False\nprint(not False) # True\n",
      "metadata": {
        "trusted": true
      },
      "execution_count": 4,
      "outputs": [
        {
          "name": "stdout",
          "text": "True\nFalse\nFalse\nTrue\nTrue\nFalse\nFalse\nTrue\n",
          "output_type": "stream"
        }
      ]
    },
    {
      "cell_type": "markdown",
      "source": "You can use these operators to combine multiple comparison operators or other Boolean values.\nThe logical and operator returns True if both the operands are true, else it returns False.\nThe logical or operator returns True if any of the operands is true, else it returns False.\nThe logical not operator returns the opposite of the operand.\n\nYou can also use these operators in if statements, while loops, and other control flow structures.",
      "metadata": {}
    },
    {
      "cell_type": "markdown",
      "source": "## Conditional Statements:",
      "metadata": {}
    },
    {
      "cell_type": "markdown",
      "source": "The most commonly used conditional statements are if, elif (short for \"else if\"), and else.",
      "metadata": {}
    },
    {
      "cell_type": "code",
      "source": "x = 5\nif x < 0:\n    print(\"x is negative\")\nelif x == 0:\n    print(\"x is zero\")\nelse:\n    print(\"x is positive\")",
      "metadata": {
        "trusted": true
      },
      "execution_count": 5,
      "outputs": [
        {
          "name": "stdout",
          "text": "x is positive\n",
          "output_type": "stream"
        }
      ]
    },
    {
      "cell_type": "markdown",
      "source": "In this example, the if statement checks if x is less than 0. If the condition is true, the code indented under the if statement runs (in this case, it prints \"x is negative\"). If the condition is false, the interpreter moves on to the next statement, which is elif x == 0. If that condition is true, the code under the elif statement runs. If both if and elif conditions are false, then the code under the else statement runs.",
      "metadata": {}
    },
    {
      "cell_type": "markdown",
      "source": "##  Loops:",
      "metadata": {}
    },
    {
      "cell_type": "markdown",
      "source": "In Python, there are two main types of loops: for loops and while loops.\n\n",
      "metadata": {}
    },
    {
      "cell_type": "code",
      "source": "my_list = [1, 2, 3, 4, 5]\nfor item in my_list:\n    print(item)",
      "metadata": {
        "trusted": true
      },
      "execution_count": 8,
      "outputs": [
        {
          "name": "stdout",
          "text": "1\n2\n3\n4\n5\n",
          "output_type": "stream"
        }
      ]
    },
    {
      "cell_type": "markdown",
      "source": "In this example, the variable item takes on the value of each element in my_list for each iteration of the loop. The code indented under the for statement runs once for each element in the list.",
      "metadata": {}
    },
    {
      "cell_type": "code",
      "source": "counter = 5\nwhile counter > 0:\n    print(counter)\n    counter -= 1\n",
      "metadata": {
        "trusted": true
      },
      "execution_count": 9,
      "outputs": [
        {
          "name": "stdout",
          "text": "5\n4\n3\n2\n1\n",
          "output_type": "stream"
        }
      ]
    },
    {
      "cell_type": "markdown",
      "source": "In this example, the while statement continues to run as long as the condition (counter > 0) is true. The code indented under the while statement runs on each iteration of the loop, and the value of counter is decremented by 1 each time through the loop. Once counter reaches 0, the loop stops.",
      "metadata": {}
    },
    {
      "cell_type": "code",
      "source": "",
      "metadata": {},
      "execution_count": null,
      "outputs": []
    }
  ]
}