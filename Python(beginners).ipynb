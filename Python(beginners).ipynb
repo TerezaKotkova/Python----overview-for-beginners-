{
  "metadata": {
    "language_info": {
      "codemirror_mode": {
        "name": "python",
        "version": 3
      },
      "file_extension": ".py",
      "mimetype": "text/x-python",
      "name": "python",
      "nbconvert_exporter": "python",
      "pygments_lexer": "ipython3",
      "version": "3.8"
    },
    "kernelspec": {
      "name": "python",
      "display_name": "Python (Pyodide)",
      "language": "python"
    }
  },
  "nbformat_minor": 4,
  "nbformat": 4,
  "cells": [
    {
      "cell_type": "markdown",
      "source": "# Jupyter Notebook & Python (for beginners)\n",
      "metadata": {}
    },
    {
      "cell_type": "markdown",
      "source": "## Headers, boltic text & comments ",
      "metadata": {}
    },
    {
      "cell_type": "markdown",
      "source": "You can create **a header** by starting a new cell and then typing the text you want to use for the header. \nThen, click on the \"Markdown\" option in the toolbar above to change the cell type to Markdown. You can then use the \"#\" symbol\nto create different levels of headers, \nsuch as **\"#\" for a level 1 header**, **\"##\" for a level 2 header**, and so on.",
      "metadata": {}
    },
    {
      "cell_type": "markdown",
      "source": "# Header Level 1\n## Header Level 2",
      "metadata": {}
    },
    {
      "cell_type": "markdown",
      "source": "You can do **baltic** typing with ** text **  and change the cell type to Markdown.\n",
      "metadata": {}
    },
    {
      "cell_type": "markdown",
      "source": "**baltic typing**",
      "metadata": {}
    },
    {
      "cell_type": "markdown",
      "source": "To create **a comment**, start a new cell and type the text you want to use for the comment.\nThen, click on the \"Code\" option in the toolbar above to change the cell type to Code. \nYou can then add a \"#\" symbol before the text to create a comment.",
      "metadata": {}
    },
    {
      "cell_type": "code",
      "source": "# Comment example ",
      "metadata": {
        "trusted": true
      },
      "execution_count": 20,
      "outputs": []
    },
    {
      "cell_type": "markdown",
      "source": "# Jupyter notebook shortcuts:",
      "metadata": {}
    },
    {
      "cell_type": "markdown",
      "source": "Press A            -     insert a new cell preceding the current cell\n\nPress B            -     to insert a new cell underneath\n\nPress M            -     to modify the current cell to Markdown\n\nPress Y            -     to transform it back to code\n\nPress D + D        -     (press the key twice) to delete all the selected current cell",
      "metadata": {}
    },
    {
      "cell_type": "markdown",
      "source": "**---------------------------------------------------------------------------------------------------------------------------------------------------------------------------------------------**",
      "metadata": {}
    },
    {
      "cell_type": "markdown",
      "source": "## Number & Basic math operations: ",
      "metadata": {}
    },
    {
      "cell_type": "markdown",
      "source": "**Addition** (+)",
      "metadata": {}
    },
    {
      "cell_type": "code",
      "source": "x = 5\ny = 3",
      "metadata": {
        "trusted": true
      },
      "execution_count": 21,
      "outputs": []
    },
    {
      "cell_type": "code",
      "source": "print(x + y)",
      "metadata": {
        "trusted": true
      },
      "execution_count": 22,
      "outputs": [
        {
          "name": "stdout",
          "text": "8\n",
          "output_type": "stream"
        }
      ]
    },
    {
      "cell_type": "markdown",
      "source": "**Subtraction** (-)",
      "metadata": {}
    },
    {
      "cell_type": "code",
      "source": "x = 5\ny = 3",
      "metadata": {
        "trusted": true
      },
      "execution_count": 23,
      "outputs": []
    },
    {
      "cell_type": "code",
      "source": "print(x - y)",
      "metadata": {
        "trusted": true
      },
      "execution_count": 24,
      "outputs": [
        {
          "name": "stdout",
          "text": "2\n",
          "output_type": "stream"
        }
      ]
    },
    {
      "cell_type": "markdown",
      "source": "**Multiplication** (*)",
      "metadata": {}
    },
    {
      "cell_type": "code",
      "source": "x = 5\ny = 3",
      "metadata": {
        "trusted": true
      },
      "execution_count": 25,
      "outputs": []
    },
    {
      "cell_type": "code",
      "source": "print(x * y)",
      "metadata": {
        "trusted": true
      },
      "execution_count": 26,
      "outputs": [
        {
          "name": "stdout",
          "text": "15\n",
          "output_type": "stream"
        }
      ]
    },
    {
      "cell_type": "markdown",
      "source": "**Division** (/)",
      "metadata": {}
    },
    {
      "cell_type": "code",
      "source": "x = 5\ny = 3\n",
      "metadata": {
        "trusted": true
      },
      "execution_count": 27,
      "outputs": []
    },
    {
      "cell_type": "code",
      "source": "print(x / y)",
      "metadata": {
        "trusted": true
      },
      "execution_count": 28,
      "outputs": [
        {
          "name": "stdout",
          "text": "1.6666666666666667\n",
          "output_type": "stream"
        }
      ]
    },
    {
      "cell_type": "markdown",
      "source": "**Floor Division** (//) returns the quotient of the division between two numbers, rounded down to the nearest integer.",
      "metadata": {}
    },
    {
      "cell_type": "code",
      "source": "x = 5\ny = 3",
      "metadata": {
        "trusted": true
      },
      "execution_count": 29,
      "outputs": []
    },
    {
      "cell_type": "code",
      "source": "print(x // y) ",
      "metadata": {
        "trusted": true
      },
      "execution_count": 30,
      "outputs": [
        {
          "name": "stdout",
          "text": "1\n",
          "output_type": "stream"
        }
      ]
    },
    {
      "cell_type": "markdown",
      "source": "**Modulus** (%) returns the remainder of the division between two numbers.",
      "metadata": {}
    },
    {
      "cell_type": "code",
      "source": "x = 5\ny = 3",
      "metadata": {
        "trusted": true
      },
      "execution_count": 31,
      "outputs": []
    },
    {
      "cell_type": "code",
      "source": "print(x % y) ",
      "metadata": {
        "trusted": true
      },
      "execution_count": 32,
      "outputs": [
        {
          "name": "stdout",
          "text": "2\n",
          "output_type": "stream"
        }
      ]
    },
    {
      "cell_type": "markdown",
      "source": "**Exponentiation** (**)",
      "metadata": {}
    },
    {
      "cell_type": "code",
      "source": "x = 5\ny = 3",
      "metadata": {
        "trusted": true
      },
      "execution_count": 33,
      "outputs": []
    },
    {
      "cell_type": "code",
      "source": "print(x ** y)",
      "metadata": {
        "trusted": true
      },
      "execution_count": 34,
      "outputs": [
        {
          "name": "stdout",
          "text": "125\n",
          "output_type": "stream"
        }
      ]
    },
    {
      "cell_type": "markdown",
      "source": "**---------------------------------------------------------------------------------------------------------------------------------------------------------------------------------------------**",
      "metadata": {}
    },
    {
      "cell_type": "markdown",
      "source": "**The order of operations** is determined by the order of precedence of mathematical operators. The order of precedence is as follows:\n\n1) Parentheses (): Expressions in parentheses are evaluated first.\n2) Exponentiation **: Exponentiation is performed before any other operation.\n3) Multiplication and Division *, /, //, %: These operations are performed next, from left to right.\n4) Addition and Subtraction +, -: These operations are performed last, from left to right.\n\nYou can use parentheses to override the order of precedence and force a specific order of operations.\n",
      "metadata": {}
    },
    {
      "cell_type": "code",
      "source": "x = 5\ny = 3\nz = 2\n\n# With Parentheses\nprint((x + y) * z) # 16\n\n# Without Parentheses\nprint(x + y * z) # 11\n\n# Using exponentiation\nprint(x ** y + z) # 127",
      "metadata": {
        "trusted": true
      },
      "execution_count": 35,
      "outputs": [
        {
          "name": "stdout",
          "text": "16\n11\n127\n",
          "output_type": "stream"
        }
      ]
    },
    {
      "cell_type": "markdown",
      "source": "**---------------------------------------------------------------------------------------------------------------------------------------------------------------------------------------------**",
      "metadata": {}
    },
    {
      "cell_type": "markdown",
      "source": "**Variable naming rules:**",
      "metadata": {}
    },
    {
      "cell_type": "markdown",
      "source": "1) Variable names must start with a letter or an underscore. They can contain letters, numbers, and underscores.\n\n2) Variable names are case-sensitive, so myVariable and myvariable would be treated as two different variables.\n\n3) Variable names cannot contain spaces, so use an underscore instead (e.g. my_variable).\n\n4) Variable names cannot start with a number.\n\n5) Variable names cannot be the same as Python keywords (e.g. if, else, for, while, etc.).\n\n6) Variable names should be descriptive and easy to understand.",
      "metadata": {}
    },
    {
      "cell_type": "markdown",
      "source": "valid variable names:                                invalid variable names:\n\nmy_variable = 5                                      5_invalid = 5 # cannot start with a number\nstudent_name = \"John Smith\"                          my variable = 10 # contains space\n_private_variable = 10                               for = \"loop\" # same as a python keyword",
      "metadata": {}
    },
    {
      "cell_type": "markdown",
      "source": "**---------------------------------------------------------------------------------------------------------------------------------------------------------------------------------------------**",
      "metadata": {}
    },
    {
      "cell_type": "markdown",
      "source": "# Print & Get User Input: ",
      "metadata": {}
    },
    {
      "cell_type": "markdown",
      "source": "In Python, you can use the print() function to output text to the console.",
      "metadata": {}
    },
    {
      "cell_type": "markdown",
      "source": "# Print",
      "metadata": {}
    },
    {
      "cell_type": "code",
      "source": "print(\"Hello World\")",
      "metadata": {
        "trusted": true
      },
      "execution_count": 36,
      "outputs": [
        {
          "name": "stdout",
          "text": "Hello World\n",
          "output_type": "stream"
        }
      ]
    },
    {
      "cell_type": "code",
      "source": "name = \"Tereza\"\nprint(\"Hello {}! How are you ?\".format(name))",
      "metadata": {
        "trusted": true
      },
      "execution_count": 37,
      "outputs": [
        {
          "name": "stdout",
          "text": "Hello Tereza! How are you ?\n",
          "output_type": "stream"
        }
      ]
    },
    {
      "cell_type": "code",
      "source": "age = 20\nprint(\"My name is {} and I am {} years old.\".format(name, age))",
      "metadata": {
        "trusted": true
      },
      "execution_count": 38,
      "outputs": [
        {
          "name": "stdout",
          "text": "My name is Tereza and I am 20 years old.\n",
          "output_type": "stream"
        }
      ]
    },
    {
      "cell_type": "markdown",
      "source": "# Input",
      "metadata": {}
    },
    {
      "cell_type": "code",
      "source": "name = await input(\"What is your name? \")",
      "metadata": {
        "trusted": true
      },
      "execution_count": 4,
      "outputs": [
        {
          "output_type": "stream",
          "name": "stdin",
          "text": "What is your name?  Tereza\n"
        }
      ]
    },
    {
      "cell_type": "code",
      "source": "print(f\"Hello, {name}!\")",
      "metadata": {
        "trusted": true
      },
      "execution_count": 5,
      "outputs": [
        {
          "name": "stdout",
          "text": "Hello, Tereza!\n",
          "output_type": "stream"
        }
      ]
    },
    {
      "cell_type": "code",
      "source": "age = await input(\"Enter your age: \")",
      "metadata": {
        "trusted": true
      },
      "execution_count": 6,
      "outputs": [
        {
          "output_type": "stream",
          "name": "stdin",
          "text": "Enter your age:  30\n"
        }
      ]
    },
    {
      "cell_type": "code",
      "source": "address = await input(\"Enter city/town where you live: \")",
      "metadata": {
        "trusted": true
      },
      "execution_count": 7,
      "outputs": [
        {
          "output_type": "stream",
          "name": "stdin",
          "text": "Enter city/town where you live:  Prague\n"
        }
      ]
    },
    {
      "cell_type": "code",
      "source": "print(f\"Your name is {name}, your age is {age} and you are from {address}.\")",
      "metadata": {
        "trusted": true
      },
      "execution_count": 8,
      "outputs": [
        {
          "name": "stdout",
          "text": "Your name is Tereza, your age is 30 and you are from Prague.\n",
          "output_type": "stream"
        }
      ]
    },
    {
      "cell_type": "code",
      "source": "a =  await input(\"Enter a number\")\na_int = int(a)",
      "metadata": {
        "trusted": true
      },
      "execution_count": 12,
      "outputs": [
        {
          "output_type": "stream",
          "name": "stdin",
          "text": "Enter a number 1\n"
        }
      ]
    },
    {
      "cell_type": "code",
      "source": "b = await input(\"Enter a number\")\nb_int = int(b)",
      "metadata": {
        "trusted": true
      },
      "execution_count": 13,
      "outputs": [
        {
          "output_type": "stream",
          "name": "stdin",
          "text": "Enter a number 5\n"
        }
      ]
    },
    {
      "cell_type": "code",
      "source": "c = a_int + b_int",
      "metadata": {
        "trusted": true
      },
      "execution_count": 14,
      "outputs": []
    },
    {
      "cell_type": "code",
      "source": "print(f\"The sum of {a_int} and {b_int} is {c}.\")",
      "metadata": {
        "trusted": true
      },
      "execution_count": 15,
      "outputs": [
        {
          "name": "stdout",
          "text": "The sum of 1 and 5 is 6.\n",
          "output_type": "stream"
        }
      ]
    },
    {
      "cell_type": "markdown",
      "source": "**---------------------------------------------------------------------------------------------------------------------------------------------------------------------------------------------**",
      "metadata": {}
    },
    {
      "cell_type": "markdown",
      "source": "## Strings",
      "metadata": {}
    },
    {
      "cell_type": "code",
      "source": "first_name = \"Tereza\" \nlast_name = \"Kotkova\"\nfull_name = first_name + \" \" + last_name\nprint(full_name)",
      "metadata": {
        "trusted": true
      },
      "execution_count": 17,
      "outputs": [
        {
          "name": "stdout",
          "text": "Tereza Kotkova\n",
          "output_type": "stream"
        }
      ]
    },
    {
      "cell_type": "code",
      "source": "full_name = full_name.upper()\nprint(full_name)",
      "metadata": {
        "trusted": true
      },
      "execution_count": 19,
      "outputs": [
        {
          "name": "stdout",
          "text": "TEREZA KOTKOVA\n",
          "output_type": "stream"
        }
      ]
    },
    {
      "cell_type": "code",
      "source": "my_list  = full_name.split()\ntype(my_list)",
      "metadata": {
        "trusted": true
      },
      "execution_count": 20,
      "outputs": [
        {
          "execution_count": 20,
          "output_type": "execute_result",
          "data": {
            "text/plain": "list"
          },
          "metadata": {}
        }
      ]
    },
    {
      "cell_type": "code",
      "source": "a = \"Terka.kotkova22@gmail.com\"\nb = a.split('@')",
      "metadata": {
        "trusted": true
      },
      "execution_count": 21,
      "outputs": []
    },
    {
      "cell_type": "code",
      "source": "b",
      "metadata": {
        "trusted": true
      },
      "execution_count": 22,
      "outputs": [
        {
          "execution_count": 22,
          "output_type": "execute_result",
          "data": {
            "text/plain": "['Terka.kotkova22', 'gmail.com']"
          },
          "metadata": {}
        }
      ]
    },
    {
      "cell_type": "code",
      "source": "b[0]",
      "metadata": {
        "trusted": true
      },
      "execution_count": 23,
      "outputs": [
        {
          "execution_count": 23,
          "output_type": "execute_result",
          "data": {
            "text/plain": "'Terka.kotkova22'"
          },
          "metadata": {}
        }
      ]
    },
    {
      "cell_type": "code",
      "source": "b[1]",
      "metadata": {
        "trusted": true
      },
      "execution_count": 24,
      "outputs": [
        {
          "execution_count": 24,
          "output_type": "execute_result",
          "data": {
            "text/plain": "'gmail.com'"
          },
          "metadata": {}
        }
      ]
    },
    {
      "cell_type": "markdown",
      "source": "**---------------------------------------------------------------------------------------------------------------------------------------------------------------------------------------------**",
      "metadata": {}
    },
    {
      "cell_type": "markdown",
      "source": "# List",
      "metadata": {}
    },
    {
      "cell_type": "code",
      "source": "my_list = [\"Tereza\", [0, 1, 2, 3], [9, 8, 7, 6]]\nprint(my_list[0])",
      "metadata": {
        "trusted": true
      },
      "execution_count": 26,
      "outputs": [
        {
          "name": "stdout",
          "text": "Tereza\n",
          "output_type": "stream"
        }
      ]
    },
    {
      "cell_type": "code",
      "source": "print(my_list[2][0])\nprint(my_list[1][0])",
      "metadata": {
        "trusted": true
      },
      "execution_count": 42,
      "outputs": [
        {
          "name": "stdout",
          "text": "9\n0\n",
          "output_type": "stream"
        }
      ]
    },
    {
      "cell_type": "markdown",
      "source": "Negative indexing - starts from the end of the list, where -1 represents the last element, -2 represents the second-last element, and so on.",
      "metadata": {}
    },
    {
      "cell_type": "code",
      "source": "my_list = [\"Tereza\", [0, 1, 2, 3], [9, 8, 7, 6]]",
      "metadata": {
        "trusted": true
      },
      "execution_count": 32,
      "outputs": []
    },
    {
      "cell_type": "code",
      "source": "print(my_list[-1])\nprint(my_list[-1][-2])",
      "metadata": {
        "trusted": true
      },
      "execution_count": 43,
      "outputs": [
        {
          "name": "stdout",
          "text": "[9, 8, 7, 6]\n7\n",
          "output_type": "stream"
        }
      ]
    },
    {
      "cell_type": "markdown",
      "source": "List slicing - is a way to extract a portion of a list by specifying a start and stop index.",
      "metadata": {}
    },
    {
      "cell_type": "code",
      "source": "my_list = [\"Tereza\", 0, 1, 2, 3, 9, 8, 7, 6]",
      "metadata": {
        "trusted": true
      },
      "execution_count": 45,
      "outputs": []
    },
    {
      "cell_type": "code",
      "source": "print(my_list[0:2]) \nprint(my_list[:])\nprint(my_list[3:])",
      "metadata": {
        "trusted": true
      },
      "execution_count": 46,
      "outputs": [
        {
          "name": "stdout",
          "text": "['Tereza', 0]\n['Tereza', 0, 1, 2, 3, 9, 8, 7, 6]\n[2, 3, 9, 8, 7, 6]\n",
          "output_type": "stream"
        }
      ]
    },
    {
      "cell_type": "markdown",
      "source": "Number of elements",
      "metadata": {}
    },
    {
      "cell_type": "code",
      "source": "my_list = [\"Tereza\", 0, 1, 2, 3, 9, 8, 7, 6]",
      "metadata": {
        "trusted": true
      },
      "execution_count": 47,
      "outputs": []
    },
    {
      "cell_type": "code",
      "source": "print(len(my_list))",
      "metadata": {
        "trusted": true
      },
      "execution_count": 48,
      "outputs": [
        {
          "name": "stdout",
          "text": "9\n",
          "output_type": "stream"
        }
      ]
    },
    {
      "cell_type": "code",
      "source": "my_list = [\"Tereza\", [0, 1, 2, 3], [9, 8, 7, 6]]",
      "metadata": {
        "trusted": true
      },
      "execution_count": 49,
      "outputs": []
    },
    {
      "cell_type": "code",
      "source": "print(len(my_list))",
      "metadata": {
        "trusted": true
      },
      "execution_count": 50,
      "outputs": [
        {
          "name": "stdout",
          "text": "3\n",
          "output_type": "stream"
        }
      ]
    },
    {
      "cell_type": "markdown",
      "source": "# Dictionaries & Booleans",
      "metadata": {}
    },
    {
      "cell_type": "markdown",
      "source": "DICTIONARIES: ",
      "metadata": {}
    },
    {
      "cell_type": "code",
      "source": "my_dict =  {\"key1\":\"value1\",\n            \"key2\":\"value2\",\n            \"key3\":\"value3\"}",
      "metadata": {
        "trusted": true
      },
      "execution_count": 51,
      "outputs": []
    },
    {
      "cell_type": "code",
      "source": "my_dict[\"key2\"]",
      "metadata": {
        "trusted": true
      },
      "execution_count": 52,
      "outputs": [
        {
          "execution_count": 52,
          "output_type": "execute_result",
          "data": {
            "text/plain": "'value2'"
          },
          "metadata": {}
        }
      ]
    },
    {
      "cell_type": "markdown",
      "source": "Add new iem in my dictionary ",
      "metadata": {}
    },
    {
      "cell_type": "code",
      "source": "my_dict[\"key4\"] = \"value4\"",
      "metadata": {
        "trusted": true
      },
      "execution_count": 53,
      "outputs": []
    },
    {
      "cell_type": "code",
      "source": "print(my_dict)",
      "metadata": {
        "trusted": true
      },
      "execution_count": 54,
      "outputs": [
        {
          "name": "stdout",
          "text": "{'key1': 'value1', 'key2': 'value2', 'key3': 'value3', 'key4': 'value4'}\n",
          "output_type": "stream"
        }
      ]
    },
    {
      "cell_type": "markdown",
      "source": "Delete an item in dictionary",
      "metadata": {}
    },
    {
      "cell_type": "code",
      "source": "del my_dict[\"key4\"]",
      "metadata": {
        "trusted": true
      },
      "execution_count": 55,
      "outputs": []
    },
    {
      "cell_type": "code",
      "source": "print(my_dict)",
      "metadata": {
        "trusted": true
      },
      "execution_count": 56,
      "outputs": [
        {
          "name": "stdout",
          "text": "{'key1': 'value1', 'key2': 'value2', 'key3': 'value3'}\n",
          "output_type": "stream"
        }
      ]
    },
    {
      "cell_type": "markdown",
      "source": "Delete entire dictionary ",
      "metadata": {}
    },
    {
      "cell_type": "code",
      "source": "del my_dict",
      "metadata": {
        "trusted": true
      },
      "execution_count": 57,
      "outputs": []
    },
    {
      "cell_type": "code",
      "source": "print(my_dict)",
      "metadata": {
        "trusted": true
      },
      "execution_count": 58,
      "outputs": [
        {
          "ename": "<class 'NameError'>",
          "evalue": "name 'my_dict' is not defined",
          "traceback": [
            "\u001b[0;31m---------------------------------------------------------------------------\u001b[0m",
            "\u001b[0;31mNameError\u001b[0m                                 Traceback (most recent call last)",
            "Cell \u001b[0;32mIn[58], line 1\u001b[0m\n\u001b[0;32m----> 1\u001b[0m \u001b[38;5;28mprint\u001b[39m(\u001b[43mmy_dict\u001b[49m)\n",
            "\u001b[0;31mNameError\u001b[0m: name 'my_dict' is not defined"
          ],
          "output_type": "error"
        }
      ]
    },
    {
      "cell_type": "markdown",
      "source": "BOOLEANS:",
      "metadata": {}
    },
    {
      "cell_type": "markdown",
      "source": "\"False\" = 0\n\"True\" = 1",
      "metadata": {}
    },
    {
      "cell_type": "code",
      "source": "x = 10\ny = 5",
      "metadata": {
        "trusted": true
      },
      "execution_count": 60,
      "outputs": []
    },
    {
      "cell_type": "code",
      "source": "x == y",
      "metadata": {
        "trusted": true
      },
      "execution_count": 61,
      "outputs": [
        {
          "execution_count": 61,
          "output_type": "execute_result",
          "data": {
            "text/plain": "False"
          },
          "metadata": {}
        }
      ]
    },
    {
      "cell_type": "code",
      "source": "x > y",
      "metadata": {
        "trusted": true
      },
      "execution_count": 62,
      "outputs": [
        {
          "execution_count": 62,
          "output_type": "execute_result",
          "data": {
            "text/plain": "True"
          },
          "metadata": {}
        }
      ]
    },
    {
      "cell_type": "markdown",
      "source": "# Tuples & Sets",
      "metadata": {}
    },
    {
      "cell_type": "markdown",
      "source": "TUPLE -  is an immutable ordered collection of elements, enclosed in round brackets ( ) . Each element in a tuple is called an item. Tuples can contain elements of different data types, including other tuples.\nOnce a tuple is created, you can't change its elements, but you can create a new tuple with the modified elements.",
      "metadata": {}
    },
    {
      "cell_type": "code",
      "source": "tuple_1 = (\"Tereza\", \"Lukas\", 10, 15, 100)",
      "metadata": {
        "trusted": true
      },
      "execution_count": 63,
      "outputs": []
    },
    {
      "cell_type": "code",
      "source": "tuple_1 [1]",
      "metadata": {
        "trusted": true
      },
      "execution_count": 64,
      "outputs": [
        {
          "execution_count": 64,
          "output_type": "execute_result",
          "data": {
            "text/plain": "'Lukas'"
          },
          "metadata": {}
        }
      ]
    },
    {
      "cell_type": "code",
      "source": "tuple_1 [1:3]",
      "metadata": {
        "trusted": true
      },
      "execution_count": 65,
      "outputs": [
        {
          "execution_count": 65,
          "output_type": "execute_result",
          "data": {
            "text/plain": "('Lukas', 10)"
          },
          "metadata": {}
        }
      ]
    },
    {
      "cell_type": "markdown",
      "source": "SETS - is an unordered collection of unique elements enclosed in curly braces {} or by using the built-in set() function. Sets are used to store unique values, and they are often used to perform mathematical set operations like union, intersection, difference, and symmetric difference.",
      "metadata": {}
    },
    {
      "cell_type": "code",
      "source": "my_set = {1, 2, 3, 4, 5, 6, 7, 8, 9, 0}",
      "metadata": {
        "trusted": true
      },
      "execution_count": 67,
      "outputs": []
    },
    {
      "cell_type": "markdown",
      "source": "each element must be uniqie ! ",
      "metadata": {}
    },
    {
      "cell_type": "code",
      "source": "my_list = {1, 2, 3, 4, 4, 3}\nmy_set = set(my_list)",
      "metadata": {
        "trusted": true
      },
      "execution_count": 73,
      "outputs": []
    },
    {
      "cell_type": "code",
      "source": "print(my_set)",
      "metadata": {
        "trusted": true
      },
      "execution_count": 74,
      "outputs": [
        {
          "name": "stdout",
          "text": "{1, 2, 3, 4}\n",
          "output_type": "stream"
        }
      ]
    },
    {
      "cell_type": "markdown",
      "source": "duplicate elements has been deleted ",
      "metadata": {}
    },
    {
      "cell_type": "code",
      "source": "",
      "metadata": {},
      "execution_count": null,
      "outputs": []
    }
  ]
}