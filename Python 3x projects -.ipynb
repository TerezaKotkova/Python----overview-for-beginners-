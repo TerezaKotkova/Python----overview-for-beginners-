{
 "cells": [
  {
   "attachments": {},
   "cell_type": "markdown",
   "metadata": {},
   "source": [
    "# Guessing game "
   ]
  },
  {
   "attachments": {},
   "cell_type": "markdown",
   "metadata": {},
   "source": [
    "With my Python program, you will be able to test your guessing abilities and see how close you are to the randomly generated number.\n",
    "\n",
    "The program is simple to use, all you have to do is input your guess and the program will give you feedback on whether you are getting closer or farther away from the correct answer. This added feature makes the guessing game more challenging and engaging as you have to think strategically about your guesses."
   ]
  },
  {
   "cell_type": "code",
   "execution_count": 11,
   "metadata": {},
   "outputs": [],
   "source": [
    "import random"
   ]
  },
  {
   "cell_type": "code",
   "execution_count": 12,
   "metadata": {},
   "outputs": [],
   "source": [
    "# Generate a random number for the user to guess\n",
    "answer = random.randint(1, 100)"
   ]
  },
  {
   "cell_type": "code",
   "execution_count": 13,
   "metadata": {},
   "outputs": [
    {
     "name": "stdout",
     "output_type": "stream",
     "text": [
      "52\n"
     ]
    }
   ],
   "source": [
    "print(answer)"
   ]
  },
  {
   "cell_type": "code",
   "execution_count": 14,
   "metadata": {},
   "outputs": [],
   "source": [
    "# Take input from the user\n",
    "guess = int(input(\"Guess a number: \"))"
   ]
  },
  {
   "cell_type": "code",
   "execution_count": 15,
   "metadata": {},
   "outputs": [
    {
     "name": "stdout",
     "output_type": "stream",
     "text": [
      "52\n"
     ]
    }
   ],
   "source": [
    "print(guess)"
   ]
  },
  {
   "cell_type": "code",
   "execution_count": 16,
   "metadata": {},
   "outputs": [
    {
     "name": "stdout",
     "output_type": "stream",
     "text": [
      "You are right\n"
     ]
    }
   ],
   "source": [
    "while True:\n",
    "    if guess == answer:\n",
    "        print(\"You are right\")\n",
    "        break\n",
    "    elif guess < answer:\n",
    "        print(\"your guess\", guess,\"is low, try again\")\n",
    "        guess = int(input(\"Guess a number: \"))\n",
    "    elif guess > answer:\n",
    "        print(\"Your guess\", guess, \"is high, try again\")\n",
    "        guess = int(input(\"Guess a number: \"))"
   ]
  },
  {
   "attachments": {},
   "cell_type": "markdown",
   "metadata": {},
   "source": [
    "This code uses the random module to generate a random number for the user to guess. The program then uses a while loop to continuously take input from the user until they guess the correct number. The if-elif-else statement is used to check if the user's guess is correct, close or far from the answer. The break command is used to exit the while loop when the user has guessed the correct number."
   ]
  }
 ],
 "metadata": {
  "kernelspec": {
   "display_name": "Python 3",
   "language": "python",
   "name": "python3"
  },
  "language_info": {
   "codemirror_mode": {
    "name": "ipython",
    "version": 3
   },
   "file_extension": ".py",
   "mimetype": "text/x-python",
   "name": "python",
   "nbconvert_exporter": "python",
   "pygments_lexer": "ipython3",
   "version": "3.10.5 (v3.10.5:f377153967, Jun  6 2022, 12:36:10) [Clang 13.0.0 (clang-1300.0.29.30)]"
  },
  "orig_nbformat": 4,
  "vscode": {
   "interpreter": {
    "hash": "aee8b7b246df8f9039afb4144a1f6fd8d2ca17a180786b69acc140d282b71a49"
   }
  }
 },
 "nbformat": 4,
 "nbformat_minor": 2
}
