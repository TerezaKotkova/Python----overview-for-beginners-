{
 "cells": [
  {
   "attachments": {},
   "cell_type": "markdown",
   "metadata": {},
   "source": [
    "# Guessing game "
   ]
  },
  {
   "attachments": {},
   "cell_type": "markdown",
   "metadata": {},
   "source": [
    "With my Python program, you will be able to test your guessing abilities and see how close you are to the randomly generated number.\n",
    "\n",
    "The program is simple to use, all you have to do is input your guess and the program will give you feedback on whether you are getting closer or farther away from the correct answer. This added feature makes the guessing game more challenging and engaging as you have to think strategically about your guesses."
   ]
  },
  {
   "cell_type": "code",
   "execution_count": 1,
   "metadata": {},
   "outputs": [],
   "source": [
    "import random"
   ]
  },
  {
   "cell_type": "code",
   "execution_count": 2,
   "metadata": {},
   "outputs": [],
   "source": [
    "# Generate a random number for the user to guess\n",
    "answer = random.randint(1, 100)"
   ]
  },
  {
   "cell_type": "code",
   "execution_count": 3,
   "metadata": {},
   "outputs": [
    {
     "name": "stdout",
     "output_type": "stream",
     "text": [
      "10\n"
     ]
    }
   ],
   "source": [
    "print(answer)"
   ]
  },
  {
   "cell_type": "code",
   "execution_count": 4,
   "metadata": {},
   "outputs": [],
   "source": [
    "# Take input from the user\n",
    "guess = int(input(\"Guess a number: \"))"
   ]
  },
  {
   "cell_type": "code",
   "execution_count": 5,
   "metadata": {},
   "outputs": [
    {
     "name": "stdout",
     "output_type": "stream",
     "text": [
      "70\n"
     ]
    }
   ],
   "source": [
    "print(guess)"
   ]
  },
  {
   "cell_type": "code",
   "execution_count": 6,
   "metadata": {},
   "outputs": [
    {
     "name": "stdout",
     "output_type": "stream",
     "text": [
      "Your guess 70 is high, try again\n",
      "You are right\n"
     ]
    }
   ],
   "source": [
    "while True:\n",
    "    if guess == answer:\n",
    "        print(\"You are right\")\n",
    "        break\n",
    "    elif guess < answer:\n",
    "        print(\"your guess\", guess,\"is low, try again\")\n",
    "        guess = int(input(\"Guess a number: \"))\n",
    "    elif guess > answer:\n",
    "        print(\"Your guess\", guess, \"is high, try again\")\n",
    "        guess = int(input(\"Guess a number: \"))"
   ]
  },
  {
   "attachments": {},
   "cell_type": "markdown",
   "metadata": {},
   "source": [
    "This code uses the random module to generate a random number for the user to guess. The program then uses a while loop to continuously take input from the user until they guess the correct number. The if-elif-else statement is used to check if the user's guess is correct, close or far from the answer. The break command is used to exit the while loop when the user has guessed the correct number."
   ]
  },
  {
   "attachments": {},
   "cell_type": "markdown",
   "metadata": {},
   "source": [
    "# Fortune Teller"
   ]
  },
  {
   "attachments": {},
   "cell_type": "markdown",
   "metadata": {},
   "source": [
    "This program simulates a paper fortune teller game. First, we define a list of fortunes for each color. Next, we ask the user to input a number. We use the input number to index the fortune list, and print the corresponding fortune."
   ]
  },
  {
   "cell_type": "code",
   "execution_count": 17,
   "metadata": {},
   "outputs": [],
   "source": [
    "answer = \"y\""
   ]
  },
  {
   "cell_type": "code",
   "execution_count": 32,
   "metadata": {},
   "outputs": [
    {
     "name": "stdout",
     "output_type": "stream",
     "text": [
      "Welcome to the fortune teller game!\n",
      "You will select a number and a color and I will tell you what the future holds for you!\n"
     ]
    }
   ],
   "source": [
    "print(\"Welcome to the fortune teller game!\")\n",
    "print(\"You will select a number and a color and I will tell you what the future holds for you!\")"
   ]
  },
  {
   "cell_type": "code",
   "execution_count": 33,
   "metadata": {},
   "outputs": [
    {
     "name": "stdout",
     "output_type": "stream",
     "text": [
      "You will have good luck\n"
     ]
    }
   ],
   "source": [
    "while answer == \"y\":\n",
    "    color = input(\"Select your color [blue, purple, yellow, green] \")\n",
    "    \n",
    "    if color == \"blue\" or color == \"yellow\":\n",
    "        number = int(input(\"Select a number[1, 3, 5, 7\"))\n",
    "\n",
    "        if number == 1:\n",
    "            print(\"You will have good luck\")\n",
    "        elif number == 3:\n",
    "            print(\"You will meet a new friend\")\n",
    "        elif number == 5:\n",
    "            print(\"You will have a successful day\")\n",
    "        elif number == 7:\n",
    "            print(\"You will achive your goals\")\n",
    "        else:\n",
    "            print(\"Number 1, 3, 5, 7 are the only numbers allowed\")\n",
    "\n",
    "    elif color == \"purple\" or color == \"green\":\n",
    "        number = int(input(\"Select a number [2, 4, 6, 8]\"))\n",
    "\n",
    "        if number == 2:\n",
    "            print(\"You will have a happy future\")\n",
    "        elif number == 4:\n",
    "            print(\"You will find true love\")\n",
    "        elif number == 6:\n",
    "            print(\"You will travel to a new place\")\n",
    "        elif number == 8:\n",
    "            print(\"You will have a breakthrough in your career\")\n",
    "        else:\n",
    "            print(\"Number 2, 4, 6, 8 are the only numbers allowed\")\n",
    "    else: \n",
    "        print(\"Only colors [blue, purple, yellow, green] are allowed\")\n",
    "    answer = input(\"Would you like to continue ? press: y for YES or: n for NO\")\n",
    "\n",
    "\n",
    "\n",
    "\n",
    "\n",
    "\n"
   ]
  },
  {
   "attachments": {},
   "cell_type": "markdown",
   "metadata": {},
   "source": [
    "This program simulates a paper fortune teller game where the user enters a color blue, purple, yellow or green, and then a number between 1 and 8, before displaying their fortune.\n",
    "It uses if-else statement to check the input color, and assign the corresponding list of fortunes.\n",
    "It uses if-else statement again to check the input number, and display the corresponding fortune.\n",
    "It also handle the case when user enter the invalid color or number, it will ask him to continue and choose different number or color. "
   ]
  },
  {
   "attachments": {},
   "cell_type": "markdown",
   "metadata": {},
   "source": [
    "# Get your zodiac sign and age based on user input\n"
   ]
  },
  {
   "cell_type": "code",
   "execution_count": 18,
   "metadata": {},
   "outputs": [],
   "source": [
    "from datetime import date"
   ]
  },
  {
   "cell_type": "code",
   "execution_count": 19,
   "metadata": {},
   "outputs": [],
   "source": [
    "# Get user input for birthdate\n",
    "birthdate = input(\"Enter your birthdate (YYYY-MM-DD): \")"
   ]
  },
  {
   "cell_type": "code",
   "execution_count": 20,
   "metadata": {},
   "outputs": [
    {
     "name": "stdout",
     "output_type": "stream",
     "text": [
      "Your date of birth is:  2001-03-26\n"
     ]
    }
   ],
   "source": [
    "print(\"Your date of birth is: \", birthdate)"
   ]
  },
  {
   "cell_type": "code",
   "execution_count": 21,
   "metadata": {},
   "outputs": [],
   "source": [
    "# Convert birthdate string to date object\n",
    "birthdate = date.fromisoformat(birthdate)"
   ]
  },
  {
   "cell_type": "code",
   "execution_count": 22,
   "metadata": {},
   "outputs": [],
   "source": [
    "# Determine zodiac sign\n",
    "if (birthdate.month == 3 and birthdate.day >= 21) or (birthdate.month == 4 and birthdate.day <= 20):\n",
    "    zodiac_sign = \"Aries\"\n",
    "elif (birthdate.month == 4 and birthdate.day >= 21) or (birthdate.month == 5 and birthdate.day <= 21):\n",
    "    zodiac_sign = \"Taurus\"\n",
    "elif (birthdate.month == 5 and birthdate.day >= 22) or (birthdate.month == 6 and birthdate.day <= 21):\n",
    "    zodiac_sign = \"Gemini\"   \n",
    "elif (birthdate.month == 6 and birthdate.day >= 22) or (birthdate.month == 7 and birthdate.day <= 22):\n",
    "    zodiac_sign = \"Cancer\"  \n",
    "elif (birthdate.month == 7 and birthdate.day >= 23) or (birthdate.month == 8 and birthdate.day <= 22):\n",
    "    zodiac_sign = \"Leo\"\n",
    "elif (birthdate.month == 8 and birthdate.day >= 23) or (birthdate.month == 9 and birthdate.day <= 22):\n",
    "    zodiac_sign = \"Virgo\"   \n",
    "elif (birthdate.month == 9 and birthdate.day >= 23) or (birthdate.month == 10 and birthdate.day <= 23):\n",
    "    zodiac_sign = \"Libra\"  \n",
    "elif (birthdate.month == 10 and birthdate.day >= 24) or (birthdate.month == 11 and birthdate.day <= 22):\n",
    "    zodiac_sign = \"Scorpius\"  \n",
    "elif (birthdate.month == 11 and birthdate.day >= 23) or (birthdate.month == 12 and birthdate.day <= 21):\n",
    "    zodiac_sign = \"Sagittarius\"  \n",
    "elif (birthdate.month == 12 and birthdate.day >= 22) or (birthdate.month == 1 and birthdate.day <= 20):\n",
    "    zodiac_sign = \"Capricornus\"  \n",
    "elif (birthdate.month == 1 and birthdate.day >= 21) or (birthdate.month == 2 and birthdate.day <= 20):\n",
    "    zodiac_sign = \"Aquarius\"  \n",
    "elif (birthdate.month == 2 and birthdate.day >= 21) or (birthdate.month == 3 and birthdate.day <= 20):\n",
    "    zodiac_sign = \"Pisces\"  "
   ]
  },
  {
   "cell_type": "code",
   "execution_count": 23,
   "metadata": {},
   "outputs": [],
   "source": [
    "# Calculate age\n",
    "today = date.today()\n",
    "age = today.year - birthdate.year -  ((today.month, today.day) < (birthdate.month, birthdate.day))"
   ]
  },
  {
   "cell_type": "code",
   "execution_count": 24,
   "metadata": {},
   "outputs": [
    {
     "name": "stdout",
     "output_type": "stream",
     "text": [
      "Your zodiac sign is  Aries  and you are  21 years old. \n"
     ]
    }
   ],
   "source": [
    "print(\"Your zodiac sign is \", zodiac_sign,\" and you are \", age, \"years old. \")"
   ]
  },
  {
   "attachments": {},
   "cell_type": "markdown",
   "metadata": {},
   "source": [
    "This code prompts the user to enter their birthdate in the format YYYY-MM-DD and then uses an if-elif statement to determine the zodiac sign based on the birthdate. It also calculates the age based on the birthdate and the current date."
   ]
  }
 ],
 "metadata": {
  "kernelspec": {
   "display_name": "Python 3",
   "language": "python",
   "name": "python3"
  },
  "language_info": {
   "codemirror_mode": {
    "name": "ipython",
    "version": 3
   },
   "file_extension": ".py",
   "mimetype": "text/x-python",
   "name": "python",
   "nbconvert_exporter": "python",
   "pygments_lexer": "ipython3",
   "version": "3.10.5"
  },
  "orig_nbformat": 4,
  "vscode": {
   "interpreter": {
    "hash": "aee8b7b246df8f9039afb4144a1f6fd8d2ca17a180786b69acc140d282b71a49"
   }
  }
 },
 "nbformat": 4,
 "nbformat_minor": 2
}
